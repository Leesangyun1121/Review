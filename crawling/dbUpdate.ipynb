{
 "cells": [
  {
   "cell_type": "code",
   "execution_count": 102,
   "metadata": {},
   "outputs": [],
   "source": [
    "import pandas as pd\n",
    "import requests\n",
    "import time, os\n",
    "import re\n",
    "import json\n",
    "import pymysql"
   ]
  },
  {
   "cell_type": "code",
   "execution_count": 103,
   "metadata": {},
   "outputs": [],
   "source": [
    "db = pymysql.connect(host='54.166.249.1', port=3306, user='damdam', passwd='damdam2020', db='damdam', charset=\"utf8mb4\", autocommit=True, cursorclass=pymysql.cursors.DictCursor)\n",
    "headers = {'user-agent': 'Mozilla/5.0 (Macintosh; Intel Mac OS X 10_15_5) AppleWebKit/537.36 (KHTML, like Gecko) Chrome/83.0.4103.116 Safari/537.36'}"
   ]
  },
  {
   "cell_type": "code",
   "execution_count": 100,
   "metadata": {},
   "outputs": [
    {
     "name": "stdout",
     "output_type": "stream",
     "text": [
      "['노트북 플러스 NT550XCR-AD1A (SSD 128GB)', '노트북', '삼성전자', '433000', 'kk****', 'G마켓', '2020.06.06', '처음에 누가 사용하던 노트북을 받아서 두번째로 새 노트북 받았네요. 노트북은 저렴하게 잘 산 것 같지만 기존에 사용하던 노트북이 고장나서 급하게 주문한건데 잘못 받으니 굉장히 화가 나더라구요. 리퍼제품을 제가 새 제품 파는걸로 착각하고 구매했나 싶었습니다. 암튼 새로 받기는 했지만 제대로 상품 확인도 안하고 보내는 건 시정될 필요가 있다고 봅니다. 구매하신분들도 받으시면 바로 확인해보세요.', '60점', 'http://prod.danawa.com/info/?pcode=11093343&cate=11234543', 'http://img.danawa.com/prod_img/500000/343/093/img/11093343_1.jpg?shrink=500:500&_v=20200514102027', '0']\n"
     ]
    }
   ],
   "source": [
    "import csv\n",
    "f = open('삼성전자 노트북 플러스 NT550XCR-AD1A (SSD 128GB).csv','r',encoding='utf-8-sig')\n",
    "r = csv.reader(f)\n",
    "empty = []\n",
    "for i in r:\n",
    "    empty.append(i)\n",
    "\n",
    "print(empty[0])\n",
    "f.close()\n",
    "#['제품명','카테고리','브랜드','가격','아이디','실제 사이트','리뷰 등록 날짜','본문','리뷰 점수','리뷰가 올라와있는 url','이미지url']"
   ]
  },
  {
   "cell_type": "code",
   "execution_count": 101,
   "metadata": {},
   "outputs": [],
   "source": [
    "f = open('삼성전자 노트북 플러스 NT550XCR-AD1A (SSD 128GB).csv','w',encoding='utf-8-sig')\n",
    "w = csv.writer(f)\n",
    "for i in empty:\n",
    "    if i[8] =='20점':\n",
    "        i[8] = 1\n",
    "    elif i[8] == '40점':\n",
    "        i[8] = 2\n",
    "    elif i[8] == '60점':\n",
    "        i[8] = 3\n",
    "    elif i[8] == '80점':\n",
    "        i[8] = 4\n",
    "    else:\n",
    "        i[8] = 5\n",
    "    w.writerow(i)\n",
    "\n",
    "f.close()"
   ]
  },
  {
   "cell_type": "code",
   "execution_count": 43,
   "metadata": {},
   "outputs": [],
   "source": [
    "#카테고리 함수\n",
    "def insertCategory(c_name):\n",
    "    with db.cursor() as cursor:\n",
    "        insertCategorySql = f\"INSERT INTO category (c_name) values('{c_name}');\"\n",
    "        cursor.execute(insertCategorySql)\n",
    "\n",
    "def getCategory(c_name):\n",
    "    with db.cursor() as cursor:\n",
    "        getCategorySql = f\"SELECT c_id FROM category WHERE c_name = '{c_name}';\"\n",
    "        cursor.execute(getCategorySql)\n",
    "        result = cursor.fetchone()\n",
    "        return result[\"c_id\"]\n"
   ]
  },
  {
   "cell_type": "code",
   "execution_count": 106,
   "metadata": {},
   "outputs": [
    {
     "data": {
      "text/plain": [
       "2"
      ]
     },
     "execution_count": 106,
     "metadata": {},
     "output_type": "execute_result"
    }
   ],
   "source": [
    "getCategory('노트북')"
   ]
  },
  {
   "cell_type": "code",
   "execution_count": 89,
   "metadata": {},
   "outputs": [],
   "source": [
    "#아이템 함수\n",
    "def insertItem(i_name,detail,c_id,brand_name,img_url,detail_url,site,price):\n",
    "    with db.cursor() as cursor:\n",
    "        insertItemSql = f\"INSERT INTO item (i_name, detail, c_id, brand_name, img_url, detail_url, site, price) values('{i_name}','{detail}','{c_id}','{brand_name}','{img_url}','{detail_url}','{site}','{price}');\"\n",
    "        try:\n",
    "            cursor.execute(insertItemSql)\n",
    "        except:\n",
    "            i_name = i_name.encode('ascii','ignore').decode('ascii')\n",
    "            brand_name = brand_name.encode('ascii','ignore').decode('ascii')\n",
    "            insertItemSql = f\"INSERT INTO item (i_name, detail, c_id, brand_name, img_url, detail_url, site, price) values('{i_name}','{detail}','{c_id}','{brand_name}','{img_url}','{detail_url}','{site}','{price}');\"\n",
    "            cursor.execute(insertItemSql)\n",
    "\n",
    "def getItem(i_name):\n",
    "    with db.cursor() as cursor:\n",
    "        getItemSql = f\"SELECT i_id FROM item WHERE i_name = '{i_name}';\"\n",
    "        cursor.execute(getItemSql)\n",
    "        result = cursor.fetchone()\n",
    "        if result == None:\n",
    "            return None\n",
    "        else:\n",
    "            return result[\"i_id\"]"
   ]
  },
  {
   "cell_type": "code",
   "execution_count": 105,
   "metadata": {},
   "outputs": [
    {
     "data": {
      "text/plain": [
       "['노트북 플러스 NT550XCR-AD1A (SSD 128GB)',\n",
       " '노트북',\n",
       " '삼성전자',\n",
       " '433000',\n",
       " 'kk****',\n",
       " 'G마켓',\n",
       " '2020.06.06',\n",
       " '처음에 누가 사용하던 노트북을 받아서 두번째로 새 노트북 받았네요. 노트북은 저렴하게 잘 산 것 같지만 기존에 사용하던 노트북이 고장나서 급하게 주문한건데 잘못 받으니 굉장히 화가 나더라구요. 리퍼제품을 제가 새 제품 파는걸로 착각하고 구매했나 싶었습니다. 암튼 새로 받기는 했지만 제대로 상품 확인도 안하고 보내는 건 시정될 필요가 있다고 봅니다. 구매하신분들도 받으시면 바로 확인해보세요.',\n",
       " 3,\n",
       " 'http://prod.danawa.com/info/?pcode=11093343&cate=11234543',\n",
       " 'http://img.danawa.com/prod_img/500000/343/093/img/11093343_1.jpg?shrink=500:500&_v=20200514102027',\n",
       " '0']"
      ]
     },
     "execution_count": 105,
     "metadata": {},
     "output_type": "execute_result"
    }
   ],
   "source": [
    "empty[0]"
   ]
  },
  {
   "cell_type": "code",
   "execution_count": 107,
   "metadata": {},
   "outputs": [],
   "source": [
    "insertItem(empty[0][0],'',getCategory(empty[0][1]),empty[0][2],empty[0][10],empty[0][9],empty[0][5],empty[0][3])"
   ]
  },
  {
   "cell_type": "code",
   "execution_count": 94,
   "metadata": {},
   "outputs": [],
   "source": [
    "#리뷰함수\n",
    "def insertReview(star,content,writer,regdate,i_id,site):\n",
    "    with db.cursor() as cursor:\n",
    "        content = re.sub('[\\\"\\']','',content)\n",
    "        insertReviewSql = f\"INSERT INTO review (star, content, writer, regdate, i_id, site) values(\\\"{star}\\\",\\\"{content}\\\",\\\"{writer}\\\",\\\"{regdate}\\\",\\\"{i_id}\\\",\\\"{site}\\\");\"\n",
    "        try:\n",
    "            cursor.execute(insertReviewSql)\n",
    "        except:\n",
    "            content = content.encode('ascii','ignore').decode('ascii')\n",
    "            writer = writer.encode('ascii','ignore').decode('ascii')\n",
    "            insertReviewSql = f\"INSERT INTO review (star, content, writer, regdate, i_id, site) values(\\\"{star}\\\",\\\"{content}\\\",\\\"{writer}\\\",\\\"{regdate}\\\",\\\"{i_id}\\\",\\\"{site}\\\");\"\n",
    "            cursor.execute(insertReviewSql)\n",
    "\n",
    "def getReview(r_id):\n",
    "    with db.cursor() as cursor:\n",
    "        getReviewSql = f\"SELECT r_id FROM review WHERE site_r_id = '{r_id}';\"\n",
    "        cursor.execute(getReviewSql)\n",
    "        result = cursor.fetchone()\n",
    "        return result[\"r_id\"]"
   ]
  },
  {
   "cell_type": "code",
   "execution_count": 108,
   "metadata": {},
   "outputs": [],
   "source": [
    "for i in range(0,len(empty)):\n",
    "    insertReview(empty[i][8],empty[i][7],empty[i][4],empty[i][6],getItem(empty[i][0]),empty[i][5])"
   ]
  }
 ],
 "metadata": {
  "kernelspec": {
   "display_name": "Python 3",
   "language": "python",
   "name": "python3"
  },
  "language_info": {
   "codemirror_mode": {
    "name": "ipython",
    "version": 3
   },
   "file_extension": ".py",
   "mimetype": "text/x-python",
   "name": "python",
   "nbconvert_exporter": "python",
   "pygments_lexer": "ipython3",
   "version": "3.7.6"
  }
 },
 "nbformat": 4,
 "nbformat_minor": 4
}
