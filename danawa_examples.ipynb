{
 "cells": [
  {
   "cell_type": "markdown",
   "metadata": {},
   "source": [
    "## 저장내용 불러오기"
   ]
  },
  {
   "cell_type": "code",
   "execution_count": 121,
   "metadata": {},
   "outputs": [
    {
     "name": "stdout",
     "output_type": "stream",
     "text": [
      "658\n",
      "335\n",
      "323\n"
     ]
    }
   ],
   "source": [
    "import csv\n",
    "new_t = []\n",
    "neg = []\n",
    "pos = []\n",
    "f = open('elect_training.csv','r',encoding='utf-8-sig')\n",
    "rdf = csv.reader(f)\n",
    "\n",
    "for i in rdf:\n",
    "    if i[1] == '0':\n",
    "        neg.append(i)\n",
    "    else:\n",
    "        pos.append(i)\n",
    "    new_t.append(i)\n",
    "\n",
    "print(len(new_t))\n",
    "print(len(neg))\n",
    "print(len(pos))"
   ]
  },
  {
   "cell_type": "code",
   "execution_count": 122,
   "metadata": {},
   "outputs": [],
   "source": [
    "training = []\n",
    "test = []\n",
    "\n",
    "for i in range(len(pos)):\n",
    "    if i<223:\n",
    "        training.append(pos[i])\n",
    "    else:\n",
    "        test.append(pos[i])\n",
    "\n",
    "for j in range(len(neg)):\n",
    "    if j<235:\n",
    "        training.append(neg[j])\n",
    "    else:\n",
    "        test.append(neg[j])"
   ]
  },
  {
   "cell_type": "markdown",
   "metadata": {},
   "source": [
    "## 광고성리뷰 필터링"
   ]
  },
  {
   "cell_type": "code",
   "execution_count": 72,
   "metadata": {},
   "outputs": [],
   "source": [
    "#리뷰에 'http'를 포함하는 링크가 있을 시 제외\n",
    "new_t = filter(lambda i: 'http' not in i[0], new_t)\n"
   ]
  },
  {
   "cell_type": "markdown",
   "metadata": {},
   "source": [
    "## 단어 토큰화"
   ]
  },
  {
   "cell_type": "code",
   "execution_count": 123,
   "metadata": {},
   "outputs": [
    {
     "name": "stdout",
     "output_type": "stream",
     "text": [
      "\n",
      "<Text: 생각/Noun 보다/Josa 가볍다/Adjective 집/Noun 에서/Josa 쓸다/Verb 만해/Noun 요/Josa...>\n"
     ]
    }
   ],
   "source": [
    "from konlpy.tag import Okt\n",
    "import nltk\n",
    "import re\n",
    "\n",
    "\n",
    "okt = Okt()\n",
    "\n",
    "def modify(text):\n",
    "    pattern = '([ㄱ-ㅎㅏ-ㅣ]+)' #한글 자모음 제거\n",
    "    text = re.sub(pattern=pattern, repl=' ', string=text)\n",
    "    pattern = '[^\\w\\s]' #특수기호 제거\n",
    "    text = re.sub(pattern=pattern, repl=' ', string=text)\n",
    "    return text\n",
    "\n",
    "def tokenize(doc):\n",
    "    return ['/'.join(t) for t in okt.pos(doc,norm=True,stem=True)]\n",
    "\n",
    "\n",
    "\n",
    "training_r = [(tokenize(modify(row[0])),row[1]) for row in training]#[('단어/형태',...,0 or 1)]\n",
    "test_r = [(tokenize(modify(row[0])),row[1]) for row in test]#[('단어/형태',...,0 or 1)]\n",
    "print()\n",
    "token = [t for d in training_r for t in d[0]] #단어들만 따로 모음\n",
    "\n",
    "text = nltk.Text(token)\n",
    "print(text)"
   ]
  },
  {
   "cell_type": "markdown",
   "metadata": {},
   "source": [
    "## 최빈값 추출 및 단어 빈도 수 저장"
   ]
  },
  {
   "cell_type": "code",
   "execution_count": 124,
   "metadata": {},
   "outputs": [],
   "source": [
    "import pickle\n",
    "import os\n",
    "path = os.getcwd()+'/pickles/'\n",
    "\n",
    "selected_words = [f[0] for f in text.vocab().most_common(2500)] \n",
    "\n",
    "def term_frequency(doc):\n",
    "    return [doc.count(word) for word in selected_words]"
   ]
  },
  {
   "cell_type": "code",
   "execution_count": 120,
   "metadata": {},
   "outputs": [
    {
     "name": "stdout",
     "output_type": "stream",
     "text": [
      "['하다/Verb', '이/Josa', '도/Josa', '에/Josa', '좋다/Adjective', '은/Josa', '가/Josa', '노트북/Noun', '배송/Noun', '을/Josa', '있다/Adjective', '으로/Josa', '받다/Verb', '구매/Noun', '는/Josa', '사용/Noun', '제품/Noun', '너무/Adverb', '없다/Adjective', '같다/Adjective', '로/Josa', '생각/Noun', '자다/Verb', '가격/Noun', '되다/Verb', '않다/Verb', '것/Noun', '보다/Verb', '하고/Josa', '를/Josa', '되어다/Verb', '설치/Noun', '키/Noun', '에서/Josa', '성능/Noun', '오다/Verb', '윈도우/Noun', '이다/Adjective', '빠르다/Adjective', '아니다/Adjective', '보다/Josa', '이/Determiner', '정도/Noun', '만족하다/Adjective', '가볍다/Adjective', '들다/Verb', '쓰다/Verb', '2/Number', '의/Josa', '디자인/Noun', '좀/Noun', '무게/Noun', '크다/Verb', '요/Josa', '때/Noun', '많이/Adverb', '고/Josa', '적/Suffix', '가성/Noun', '상품/Noun', '정말/Noun', '비/Noun', '수/Noun', '택배/Noun', '더/Noun', '사은/Noun', '주문/Noun', '만족스럽다/Adjective', '추가/Noun', '느리다/Adjective', '거/Noun', '기다리다/Verb', '쓸다/Verb', '그램/Noun', '안/VerbPrefix', '가다/Verb', '한/Josa', '박스/Noun', '화면/Noun', '발열/Noun', '사다/Verb', '\\n/Foreign', '한/Determiner', '속도/Noun', '들/Suffix', '소음/Noun', '만/Josa', '엄청/Adverb', '3/Number', '이온/Noun', '괜찮다/Adjective', '이다/Verb', '해보다/Verb', '패드/Noun', '인치/Noun', '까지/Josa', '이/Noun', '그렇다/Adjective', '삼성/Noun', '진짜/Noun', '처음/Noun', '과/Josa', '감사하다/Verb', '갤럭시/Noun', '구입/Noun', '이상/Noun', '마음/Noun', '15/Number', '이라/Josa', '오래/Adverb', '램/Noun', '제/Noun', '요/Noun', '품/Noun', '조금/Noun', '문제/Noun', '안되다/Adjective', '저/Noun', '포장/Noun', '걸리다/Verb', '바로/Noun', '후/Noun', '게임/Noun', '기존/Noun', '인/Josa', '아쉽다/Adjective', '고민/Noun', '달/Noun', '만족/Noun', '없이/Adverb', '잘/VerbPrefix', '도착/Noun', '5/Number', '북/Noun', '라/Josa', '서/Josa', '모르다/Verb', '코로나/Noun', '써다/Verb', '용/Noun', '대비/Noun', '근데/Adverb', '주다/Verb', '면/Josa', '아주/Noun', '못/VerbPrefix', '기/Modifier', '이네/Josa', '무겁다/Adjective', '전/Noun', '다/Josa', '선택/Noun', '그리고/Conjunction', '소리/Noun', '예쁘다/Adjective', '집/Noun', '후기/Noun', '때문/Noun', '해주다/Verb', '판매/Noun', '일단/Noun', '많다/Adjective', '나/Josa', '말/Noun', '저렴하다/Adjective', '다/Adverb', '알다/Verb', '인터넷/Noun', '도/Noun', '이쁘다/Adjective', '살다/Verb', '싸다/Verb', '10/Number', '분/Noun', '점/Noun', '돼다/Verb', '추천/Noun', '하나/Noun', '보드/Noun', '1/Number', '보내다/Verb', '전화/Noun', '그냥/Noun', '중/Noun', '이벤트/Noun', '넘다/Verb', '빼다/Verb', '걱정/Noun', '기사/Noun', '사양/Noun', '품다/Verb', '거의/Noun', '아직/Adverb', '교환/Noun', '싶다/Verb', '곳/Noun', '부분/Noun', '구/Modifier', '한/Modifier', '에는/Josa', '기/Noun', '모델/Noun', '깔다/Verb', '적당하다/Adjective', '빨리/Adverb', '인데/Josa', '택시/Noun', '사/Modifier', '맘/Noun', '팬/Noun', '감다/Verb', '한번/Noun', '선물/Noun', '할인/Noun', '나오다/Verb', '매우/Noun', '기본/Noun', '뭐/Noun', '배터리/Noun', '4/Number', '처럼/Josa', '님/Suffix', '딱/Adverb', '주/Noun', '주/Modifier', '색상/Noun', '밉다/Adjective', '다른/Modifier', '다른/Noun', '카드/Noun', '개인/Noun', '그래도/Adverb', '메모리/Noun', '깔끔하다/Adjective', '늦다/Verb', '마우스/Noun', '크기/Noun', '문/Modifier', '장난/Noun', '늘다/Verb', '안/Noun', '자체/Noun', '가능하다/Adjective', '와/Josa', '듯/Noun', '드리다/Verb', 'SSD/Alpha', '를/Noun', '비교/Noun', '레노버/Noun', '그래픽/Noun', '8/Number', 'ssd/Alpha', '화질/Noun', '센터/Noun', '편하다/Adjective', '하/Suffix', '작업/Noun', '사진/Noun', '이렇게/Adverb', '데탑/Noun', '인지/Josa', '업그레이드/Noun', '돌아가다/Verb', '드라이버/Noun', '서비스/Noun', '급하다/Adjective', '늦어지다/Verb', '외관/Noun', '맞다/Verb', '중/Suffix', '불편하다/Adjective', '포함/Noun', '이렇다/Adjective', '차다/Verb', '돈/Noun', '입학/Noun', '시간/Noun', '못/Noun', '인하다/Adjective', '매/Modifier', '17/Number', '이나/Josa', '돌리다/Verb', '불량/Noun', '하드/Noun', '최고/Noun', '리뷰/Noun', '기분/Noun', '두/Determiner', '외/Noun', '확인/Noun', '대/Modifier', '아이/Noun', '프로그램/Noun', '느낌/Noun', '다만/Noun', '친절하다/Adjective', '빨르다/Adjective', '이랑/Josa', '상당하다/Adjective', '지금/Noun', '쉬다/Verb', 'as/Alpha', '나다/Verb', '무선/Noun', '가지/Noun', '떨어지다/Verb', '그/Noun', '저/Determiner', '에/Foreign', '타고/Noun', '느끼다/Verb', '데/Noun', '업글/Noun', '보고/Noun', '다르다/Adjective', '옵션/Noun', '원래/Noun', '그/Determiner', '계속/Noun', '장/Suffix', '직접/Noun', '설명/Noun', '만에/Josa', '전자/Noun', '사고/Noun', '상태/Noun', '별로/Noun', '하지만/Conjunction', '힘들다/Adjective', '개봉/Noun', '고급스럽다/Adjective', '고려/Noun', '씩/Suffix', '체적/Noun', '이번/Noun', '감/Noun', '시/Noun', '보이다/Verb', '256/Number', '타입/Noun', 'LG/Alpha', '개/Noun', '잘쓰다/Verb', '기능/Noun', '일주일/Noun', '게/Josa', '네/Suffix', '내다/Verb', '아들/Noun', '연락/Noun', '이/Suffix', '듭니/Noun', '휴대/Noun', '약간/Noun', '다음/Noun', '날/Noun', '으로는/Josa', '훨씬/Adverb', '얇다/Adjective', '훼손/Noun', '잔/Noun', '먹다/Verb', '글/Noun', '자/Suffix', '컴퓨터/Noun', '부팅/Noun', '롤/Noun', '기대하다/Adjective', '충전기/Noun', '랑/Josa', '본/Modifier', '가방/Noun', '수령/Noun', '이라는/Josa', '들어오다/Verb', '지/Josa', '설치다/Adjective', '하/Exclamation', '뜯다/Verb', '화이트/Noun', '오래되다/Adjective', '반품/Noun', '및/Noun', '해/Noun', '토요일/Noun', '숫자/Noun', '사실/Noun', '심하다/Adjective', '가끔/Noun', '출고/Noun', '착하다/Adjective', '교체/Noun', '등/Noun', '장착/Noun', '에서는/Josa', '로/Noun', '우측/Noun', 'GB/Alpha', '왜/Noun', '알/Noun', '탑재/Noun', '디스플레이/Noun', '이라고/Josa', '좋아하다/Adjective', '말다/Verb', '실망/Noun', '네/Determiner', '파우치/Noun', '삼/Modifier', '기간/Noun', '온라인/Noun', '이고/Josa', '다양하다/Adjective', '몇/Modifier', '고장/Noun', '건/Noun', '약하다/Adjective', '버리다/Verb', '해봤다/Verb', '고르다/Verb', 'hp/Alpha', '얘기/Noun', '바람/Noun', '타다/Verb', '비다/Verb', '문의/Noun', '별도/Noun', '3월/Number', '니까/Josa', '눈/Noun', '바라다/Verb', '엘지/Noun', '가로/Noun', '단점/Noun', '세대/Noun', 'L/Alpha', '전체/Noun', 'cpu/Alpha', 'm/Alpha', '충전/Noun', '충격/Noun', '살짝/Noun', '나/Noun', '밖에/Josa', '다행/Noun', '쓰기/Noun', '여/Noun', '산/Noun', '그런데/Conjunction', '내/Determiner', '대해/Noun', '성/Modifier', '다니다/Verb', '기대/Noun', '작다/Adjective', '아카데미/Noun', '죠/Josa', '암튼/Adverb', '커서/Noun', '예정/Noun', '어렵다/Adjective', '신청/Noun', '참고/Noun', '두다/Verb', '무난/Noun', '적다/Verb', '무엇/Noun', '지다/Verb', '검색/Noun', '시키다/Verb', 'i/Alpha', '진심/Noun', '그레이/Noun', '전부/Noun', '기도/Noun', '기르다/Verb', '두께/Noun', '두껍다/Adjective', '보관/Noun', '날리다/Verb', '감사/Noun', '물론/Adverb', '성품/Noun', '22일/Number', '답변/Noun', '아/Exclamation', '편이/Noun', '부터/Josa', '예상/Noun', '모두/Noun', '결정/Noun', '게/Noun', '여기/Noun', '다운/Noun', '액정/Noun', '스펙/Noun', '기다/Verb', '또한/Noun', '1650/Number', '신경/Noun', '터치패드/Noun', '그래픽카드/Noun', '업데이트/Noun', '쓰이다/Verb', '하니/Noun', '안좋다/Adjective', '버전/Noun', '완전/Noun', '물건/Noun', '10일/Number', '라서/Josa', '평/Noun', '버즈/Noun', '오늘/Noun', '쪽/Noun', 'AS/Alpha', '에도/Josa', '같이/Adverb', '3일/Number', '부담/Noun', '줄다/Verb', '업무/Noun', '기절/Noun', '값/Noun', '갚다/Verb', '하필/Noun', '대서/Noun', '모이다/Verb', '인적/Noun', '거여/Noun', '동생/Noun', '메탈/Noun', '거들다/Verb', '뿐/Suffix', '시원하다/Adjective', '넘어오다/Verb', '데탑용/Noun', '터/Noun', '뜨겁다/Adjective', '세이브/Noun', '금액/Noun', '소/Noun', '높다/Adjective', '보/Noun', '사서/Noun', '꽤/Noun', '변경/Noun', '512/Number', '용도/Noun', '16일/Number', '챙기다/Verb', '문자/Noun', '비슷하다/Adjective', '원하다/Adjective', '어느/Modifier', '비싸다/Adjective', '면/Noun', '가장/Noun', '많이/Modifier', '찾다/Verb', '이전/Noun', 'HDD/Alpha', '판/Noun', '업체/Noun', '패널/Noun', '새롭다/Adjective', '바꾸다/Verb', '혹시/Noun', '프리도스/Noun', '그리다/Verb', '백라이트/Noun', '위해/Noun', '재/Noun', '달다/Verb', '색/Noun', '찾아보다/Verb', '사보다/Verb', '마감/Noun', 'OS/Alpha', '대학생/Noun', '응모/Noun', '힌지/Noun', '생기다/Verb', '에게/Josa', '정/Noun', '보이/Noun', '드네/Noun', '끄다/Verb', '품질/Noun', '분/Suffix', '일찍/Noun', '한글/Noun', '맞추다/Verb', '만들다/Verb', '여러/Noun', '나서다/Verb', '현재/Noun', 'GS/Alpha', '발송/Noun', '자세하다/Adjective', '수업/Noun', '방문/Noun', '하자/Noun', '제대로/Noun', '만큼/Josa', '어/Suffix', '인가요/Josa', '이해/Noun', '고객/Noun', '처리/Noun', '소비자/Noun', '다시/Noun', '애/Noun', '굿/Noun', '시끄럽다/Adjective', '불쾌하다/Adjective', '확실하다/Adjective', '넣다/Verb', '제/Modifier', '무조건/Noun', '영상/Noun', '행사/Noun', '스킨/Noun', '성/Suffix', '대응/Noun', '얼마나/Noun', '한지/Noun', '만큼/Noun', '빛/Noun', '겹/Noun', '올해/Noun', '동안/Noun', '함/Noun', '너무나/Adverb', '지만/Josa', '강/Noun', '무용/Noun', '브랜드/Noun', '알아보다/Verb', '동영상/Noun', '여러가지/Noun', '파다/Verb', '켜다/Verb', '행복하다/Adjective', '잡다/Verb', '12/Number', '걸/Noun', '앞/Noun', '장/Noun', '금방/Noun', '게이/Noun', '밍/Noun', '9/Number', '만/Noun', '보다는/Josa', 'I/Alpha', '니/Josa', '일/Noun', 's/Alpha', '설정/Noun', '거슬리다/Verb', '60/Number', '열/Modifier', '어보/Noun', '당시/Noun', '들어가다/Verb', '건지다/Verb', '조용하다/Adjective', '인식/Noun', '따로/Adverb', '128/Number', '세/Modifier', '요즘/Noun', '특히/Adverb', 'G/Alpha', 'S/Alpha', '따르다/Verb', '유튜브/Noun', 'A/Alpha', '스럽다/Adjective', '휴대폰/Noun', '인강/Noun', '바뀌다/Verb', '깨끗하다/Adjective', '이유/Noun', '뭔가/Noun', '불만/Noun', '치고는/Josa', '무거워/Noun', '데스크탑/Noun', '필요하다/Adjective', '아/Josa', '4월/Number', '아무리/Adverb', '인가/Josa', '차이/Noun', '결론/Noun', '재고/Noun', '실버/Noun', '전화하다/Adjective', '솔직하다/Adjective', '번/Noun', '대학/Noun', '사주다/Verb', '최악/Noun', '환불/Noun', '조카/Noun', '그대로/Noun', '치고/Josa', '대로/Noun', '선/Noun', '깔리다/Verb', '복합기/Noun', '손/Noun', '며칠/Noun', '쯤/Foreign', '우리/Noun', '위/Noun', '상황/Noun', '프린터/Noun', '해주시/Noun', '대/Suffix', '취소/Noun', '만족도/Noun', '역시/Noun', '전반/Noun', 'os/Alpha', '에요/Josa', '작동/Noun', '어떻다/Adjective', '회사/Noun', '시원시원하다/Adjective', '스크린/Noun', '촉감/Noun', '바쁘다/Adjective', '끝/Noun', '치다/Verb', '눈팅/Noun', '1월/Number', '열다/Verb', '오/Noun', '대신/Noun', '보기/Noun', '색온도/Noun', 'NVME/Alpha', '초기/Noun', '안내/Noun', '무상/Noun', '신제품/Noun', '빠지다/Verb', '다행하다/Adjective', '쿨링/Noun', '뿐/Noun', '간단하다/Adjective', '한테/Josa', '며/Josa', '완충/Noun', '속/Modifier', '무리/Noun', '입장/Noun', '나머지/Noun', '대다/Verb', '우선/Noun', '16/Number', '귀찮다/Adjective', '오프라인/Noun', '읽다/Verb', '무/Noun', '지인/Noun', '블랙/Noun', '움/Noun', '오버/Noun', '워치/Noun', '판단/Noun', '340/Number', 'IRH/Alpha', '보시/Noun', '나쁘다/Adjective', 'CPU/Alpha', '11/Number', '놋북/Noun', '고가/Noun', '자/Noun', '믿다/Verb', '시/Modifier', '또/Noun', '모드/Noun', '강하다/Adjective', '각도/Noun', '6/Number', '티/Noun', '단/Noun', '새/Modifier', '나사/Noun', '그래서/Adverb', '가요/Noun', '살/Noun', '엔/Josa', '파손/Noun', 'usb/Alpha', '해결/Noun', '밝다/Verb', '벌리다/Verb', '이만/Noun', '던지다/Verb', '으로도/Josa', '그럭저럭/Adverb', '쉬프트/Noun', 'd/Alpha', '플렉스/Noun', '선명하다/Adjective', '안해/Noun', '950/Number', '58/Number', '수준/Noun', '작아지다/Verb', '2일/Number', '구조/Noun', '개월/Noun', '체크/Noun', '짜증나다/Adjective', '번호/Noun', '업/Noun', '저러다/Verb', '옴/Noun', '안전하다/Adjective', '사이/Noun', '준비/Noun', '배/Noun', '빨/Noun', '창/Noun', '남기다/Verb', '화가/Noun', '라는/Josa', '듣다/Verb', '경우/Noun', '겁니다/Verb', '첨부/Noun', '꼭/Noun', '여러/Modifier', '째다/Verb', '전/Modifier', '딸/Noun', '짜증/Noun', '어이없다/Adjective', '당일/Noun', '옵니다/Eomi', '인/Suffix', '왓/Noun', '시즌/Noun', '굉장하다/Adjective', '해도/Noun', '이어폰/Noun', '부탁드리다/Adjective', '일/Modifier', '중요하다/Adjective', '관리/Noun', '부족하다/Adjective', '수리/Noun', '괜찬아/Noun', '저렴/Noun', '와이파이/Noun', '까지는/Josa', '오히려/Noun', '8월/Number', '고무/Noun', '비닐/Noun', '정상/Noun', '손상/Noun', '하루/Noun', '결과/Noun', '모니터/Noun', '여서/Josa', '심플/Noun', '고급/Noun', '9년/Number', '쓸리다/Verb', '보름/Noun', '보호/Noun', '필름/Noun', '마침/Noun', '별/Modifier', '2017년/Number', '형/Foreign', '노안/Noun', '작년/Noun', '팩/Noun', '겠다/Verb', '꼼꼼하다/Adjective', '그러나/Conjunction', '엄청나다/Adjective', '상자/Noun', '모든/Noun', '밝기/Noun', '문서/Noun', '확장/Noun', '보증/Noun', '미리/Noun', '30일/Number', '뻔/Noun', '추하다/Adjective', '더하다/Adjective', '오픈/Noun', '이구/Noun', '구성/Noun', '작/Modifier', '오류/Noun', '뜨다/Verb', '은/Noun', '무거/Noun', '화상/Noun', '도도/Noun', '웬만하다/Adjective', '도서관/Noun', '어제/Noun', '잘못/Noun', '내장/Noun', '후회되다/Adjective', '무척/Noun', '묻다/Verb', '그렇다고/Conjunction', '가하다/Verb', '이런/Modifier', '올리다/Verb', '플라스틱/Noun', '비갑/Noun', '이지/Josa', '끼다/Verb', '달리다/Verb', '분들/Suffix', '포토샵/Noun', 'kg/Alpha', '그건/Adverb', '틀다/Verb', '나가다/Verb', '세련되다/Adjective', '정보/Noun', '보임/Noun', '놓다/Verb', '확/Noun', '지마켓/Noun', '여/Josa', '시작/Noun', '1시간/Number', 'USB/Alpha', '포트/Noun', '디스크/Noun', '뭐라다/Verb', '크게/Noun', '블루/Noun', '재질/Noun', '무선랜/Noun', 'AMD/Alpha', 'Vega/Alpha', '인텔/Noun', '한참/Noun', '뒤/Noun', '웹캠/Noun', '찍다/Verb', '아예/Noun', '쿨러/Noun', '상처/Noun', '부드럽다/Adjective', '번거롭다/Adjective', '사전/Noun', '비용/Noun', '띄다/Verb', 'gtx/Alpha', 'h/Alpha', '대로/Josa', '저렇게/Adverb', '오른쪽/Noun', '의/Noun', '이상하다/Adjective', '웹서핑/Noun', '들리다/Verb', '그렇게/Adverb', '잡히다/Verb', '배다/Verb', '간/Suffix', '홈페이지/Noun', '한쪽/Noun', '고정/Noun', '당연하다/Adjective', '절대/Noun', '라도/Josa', '뽑다/Verb', '안녕하다/Adjective', '파란색/Noun', '던/Noun', '컴/Noun', '컴맹/Noun', '놀라다/Verb', '라고/Josa', '맘에듭니/Noun', '이르다/Verb', '편/Noun', '야하다/Adjective', '어려움/Noun', '짧다/Adjective', '핸드폰/Noun', '정도/Foreign', '발견/Noun', '용량/Noun', 'IPS/Alpha', '인거/Josa', '파티션/Noun', '중옵/Noun', '프레임/Noun', '최대/Noun', '올라가다/Verb', '처/Noun', '빅스/Noun', '마일/Noun', '베터리/Noun', 'NT/Alpha', '아우라/Noun', '경량/Noun', 'lg/Alpha', '걍/Adverb', '과정/Noun', '예/Modifier', '약/Modifier', '느껴지다/Verb', '적응/Noun', '어떠하다/Adjective', '고생/Noun', '서다/Verb', '튼튼하다/Adjective', 'a/Alpha', '줄/Noun', '판이/Noun', '5월/Number', '약/Noun', '응대/Noun', '가중/Noun', '시야/Noun', '메인보드/Noun', '50/Number', '만해/Noun', '당황/Noun', '잇다/Verb', '어차피/Noun', '학습/Noun', '상/Suffix', '조/Modifier', '은제/Noun', '지저분하다/Adjective', '그것/Noun', '결제/Noun', '6일/Number', '닳다/Verb', '짱/Suffix', '그거/Noun', '대에/Foreign', '허전하다/Adjective', '도/Foreign', '기계/Noun', '계시다/Adjective', '겨우/Noun', '어쩔/Modifier', '생산/Noun', '해외/Noun', '보다도/Josa', '최소/Noun', '오르다/Verb', '땜시/Noun', '종/Noun', '80만원/Number', '팔다/Verb', '이나/Noun', '은색/Noun', '무슨/Noun', '예요/Josa', 'gs/Alpha', '점검/Noun', '홈쇼핑/Noun', '엉망/Noun', '의심/Noun', '가져오다/Verb', '30분/Number', '거치다/Verb', '바닥/Noun', '질문/Noun', '아직도/Adverb', '완료/Noun', '초등학교/Noun', '물품/Noun', '예정일/Noun', '용다/Verb', '5년/Number', '쿠폰/Noun', '과연/Noun', '타/Noun', '광고/Noun', '에서도/Josa', '사후/Noun', '흐리다/Verb', '잉크/Noun', '버거/Noun', '셋팅/Noun', '많아지다/Verb', '출력/Noun', '종이/Noun', '만들기/Noun', '하므다/Verb', '봉인/Noun', '자르다/Verb', '넘어가다/Verb', '별루/Noun', '넓어지다/Verb', '핑/Noun', '좁다/Adjective', '이틀/Noun', '끊기다/Verb', '도저히/Noun', '짜다/Verb', 'or/Alpha', '7/Number', '성도/Noun', '해상도/Noun', '주변/Noun', '딱이다/Adjective', '시청/Noun', '비도/Noun', 'XNOTE/Alpha', '사용하다/Foreign', '화면해상도/Noun', '초점/Noun', '평가/Noun', '하여튼/Noun', '겉/Noun', '차차/Noun', '불만족/Noun', '256만/Number', '송전/Noun', '세팅/Noun', '해당/Noun', '책임자/Noun', '29일/Number', '31일/Number', '불다/Verb', '뿐이다/Adjective', '똑같이/Adverb', '지난/Modifier', '에야/Josa', '반사/Noun', '부착/Noun', '출시/Noun', '에서야/Josa', '고심/Noun', '급니/Noun', '개학/Noun', '애작/Noun', '은애/Noun', '통화/Noun', '명칭/Noun', '도란/Noun', '내용/Noun', '영롱/Noun', '달에는/Foreign', '주가/Noun', '걸릴껄/Noun', '이제야/Noun', '슬프다/Adjective', '만원/Noun', '즉/Noun', 'RPG/Alpha', '보가/Noun', '이며/Josa', '나위/Noun', '녀석/Noun', '로는/Josa', '빼앗기다/Verb', '웃음/Noun', '보람/Noun', '야구/Noun', '근대/Noun', '값어치/Noun', '지니다/Verb', '12월/Number', '예약/Noun', '8일/Number', '완벽하다/Adjective', '조정/Noun', '슬롯/Noun', '으로/Foreign', '께/Josa', '2월/Number', '에야/Foreign', '목/Noun', '불친절하다/Adjective', '멈추다/Verb', '예전/Noun', '으론/Josa', '상/Noun', '진행/Noun', '씰/Noun', '사람/Noun', '들어서다/Verb', '딱하다/Adjective', '일도/Noun', '성과/Noun', '보단/Josa', '워낙/Noun', '고맙다/Adjective', '늦/Noun', '고/Modifier', '주말/Noun', '누르다/Verb', '누락/Noun', '전혀/Noun', '반드시/Noun', '결국/Adverb', '구동/Noun', '발생/Noun', '찜찜하다/Adjective', '이제/Noun', '불/Noun', '온/Modifier', '타협/Noun', '40만원/Number', '이라니/Josa', '하드디스크/Noun', '강추/Noun', '요청/Noun', '저희/Noun', '욕/Noun', '편집/Noun', '동봉/Noun', '노북/Noun', '직원/Noun', '초등/Noun', 'g/Alpha', '등등/Noun', '4시/Number', '끼우다/Verb', '급/Suffix', '글카/Noun', '길다/Adjective', '사이즈/Noun', '오랫동안/Adverb', '유투브/Noun', '배그/Noun', '낫다/Verb', '표면/Noun', '신뢰/Noun', '8년/Number', '최근/Noun', '열심히/Adverb', '로만/Noun', '플레이/Noun', '2019/Number', '레노보/Noun', '9월/Number', '점심/Noun', '쯤/Suffix', 'TB/Alpha', '빠릿빠릿/Adverb', '배열/Noun', '겪다/Verb', '살포시/Noun', '무지/Noun', '상판/Noun', '간만/Noun', 'GTX/Alpha', '진작/Noun', '오랜/Modifier', '대충/Noun', '필요/Noun', '겁나다/Verb', '남/Noun', '아이디어/Noun', 'LEGEND/Alpha', '어쩔/Adverb', '에게는/Josa', '3만원/Number', '가량/Noun', '갑자기/Noun', '9300/Number', '뽁뽁이/Noun', '감싸다/Verb', '푸른/Noun', '형광/Noun', '키보/Noun', '키로/Suffix', '내리다/Verb', '잠그다/Verb', '라이트/Noun', '비추다/Verb', '메이플스토리/Noun', '도중/Noun', '온도/Noun', '니/Noun', '파스/Noun', '점수/Noun', '양품/Noun', '유선/Noun', '최신/Noun', '자동/Noun', '시스템/Noun', '바이오스/Noun', '유용하다/Adjective', '11월/Number', '10만원/Number', '용기/Noun', '복구/Noun', '줌/Noun', '사시/Noun', '방열/Noun', '판정/Noun', '일절/Noun', '역대/Noun', '스크레치/Noun', '우수하다/Adjective', '스럽지/Josa', '보통/Noun', '다치다/Verb', '힘드다/Adjective', '급/Noun', '미안하다/Adjective', '기색/Noun', '라던가/Josa', '지연/Noun', '에쓰/Noun', '덕분/Noun', '포기/Noun', '사려/Noun', '잘나오다/Verb', '반복/Noun', '하하/Noun', '지르다/Verb', '잘살다/Verb', '이중/Noun', '뽁뽁/Noun', '가가/Noun', '메/Noun', '단자/Noun', '측면/Noun', '볼때/Noun', '너무하다/Adjective', '틀/Noun', '어디/Noun', '온건/Noun', '자주/Noun', '블루투스/Noun', '갓/Modifier', '연결/Noun', '음질/Noun', '실행/Noun', '스럽게/Josa', '팅/Noun', '박히다/Verb', '놈/Noun', '참다/Verb', '나름/Noun', '반/Noun', '단/Modifier', '밧데리/Noun', '커버/Noun', 'f/Alpha', '야/Josa', '낮다/Adjective', '아프다/Adjective', '막/Noun', '에선/Josa', '번가/Noun', '오후/Noun', '이라서/Josa', '아무래도/Adverb', '24/Number', '활용/Noun', '이지만/Josa', '거기/Noun', '충분하다/Adjective', '장점/Noun', '버벅/Noun', '거리/Noun', '타이핑/Noun', '따다/Verb', '사/Noun', '놀래다/Adjective', '번창/Noun', '펜/Noun', '본체/Noun', '동안/Foreign', '그동안/Noun', '다가/Noun', '대학교/Noun', '디/Noun', '장만/Noun', '갈리다/Verb', '적용/Noun', 'QLED/Alpha', '드/Noun', '한국/Noun', '어캐함/Noun', '자존심/Noun', '일부러/Noun', '대한/Noun', '기타/Noun', '미끄러지다/Verb', '마음먹다/Verb', '데이/Noun', '총/Noun', '250/Number', 'XCR/Alpha', '실수/Noun', '윈도/Noun', '설계/Noun', '파츠/Noun', '좀더/Noun', '사의/Noun', '이니/Josa', '호불호/Noun', '파도/Noun', '제외/Noun', '넷플/Noun', '목적/Noun', '포인트/Noun', '베젤/Noun', '튀다/Verb', '절반/Noun', '갈다/Verb', '색감/Noun', '이라도/Josa', '실/Noun', '합리/Noun', '아무/Noun', '형/Suffix', '네/Josa', '날때/Noun', '구기다/Verb', '덜컹덜컹/Adverb', '와이프/Noun', '도움/Noun', 'shift/Alpha', '어뎁터/Noun', '작고/Noun', '드라이브/Noun', '총/Modifier', '일이/Modifier', '공장/Noun', '모서리/Noun', '메이저/Noun', '먼저/Noun', '아수스/Noun', '주간/Noun', '수정/Noun', '정책/Noun', '채/Noun', '끊다/Verb', '예약판매/Noun', '혹은/Adverb', '뾱뾱/Noun', '뭐/Exclamation', '물/Noun', 'ASUS/Alpha', 'acer/Alpha', '각/Noun', '빨갛다/Adjective', '지/Modifier', '강의/Noun', '히트/Noun', '파이프/Noun', '존나/Noun', '에르/Noun', '리프트/Noun', '유입/Noun', '해소/Noun', '한다는/Modifier', '영화/Noun', '지는/Josa', '특별하다/Adjective', '아침/Noun', '파워/Noun', '엑/Exclamation', '정이/Noun', '깨다/Verb', '사용자/Noun', '과실/Noun', '달리/Noun', '여부/Noun', '천구/Noun', '용이/Noun', '운송/Noun', '오기/Noun', '온라인수업/Noun', '아들내미/Noun', '실망하다/Adjective', '일이/Noun', '연기/Noun', '계획/Noun', '차질/Noun', '딱/VerbPrefix', '픔/Noun', '레드/Noun', '코드/Noun', '컴터/Noun', '스랑/Noun', '리퍼/Noun', '만에/Foreign', '흠집/Noun', '대체로/Noun', '3분/Number', '할해줘서/Foreign', '흠/Noun', '지방선거/Noun', '밑면/Noun', '묵다/Verb', '뭘/Noun', '건가/Noun', '82만원/Number', '찝찝하다/Adjective', '대학입학/Noun', '엑셀/Noun', '워드/Noun', '관련/Noun', '복불복/Noun', '분도/Noun', '상담/Noun', '남다/Verb', '말이라하고/Foreign', '사태/Noun', '라지/Noun', '수가/Noun', '개강/Noun', '역쉬/Noun', '최대로/Noun', '3년/Number', '중국산/Noun', '호갱/Noun', '동시/Noun', '자의/Noun', '횡포/Noun', '무방/Noun', '압니/Noun', '미명/Noun', '꼴/Noun', '가까이/Noun', '싸우다/Verb', '노란색/Noun', '하얀색/Noun', '검정색/Noun', '답/Noun', '결심/Noun', '조치/Noun', '취/Noun', '피드백/Noun', '소보원/Noun', '엄연하다/Adjective', '럭키/Noun', '것은/Noun', '책임/Noun', '전가/Noun', '염두/Noun', '두시/Noun', '주정/Noun', '모로/Noun', '중학/Noun', '은진/Noun', '이기/Noun', '울/Modifier', '달도/Noun', '결함/Noun', '중임/Noun', '한없이/Adverb', '뱉다/Verb', '군/Noun', '노무/Noun', '섬/Noun', '원/Modifier', '격/Noun', '학사/Noun', '시험/Noun', '다망/Noun', '똑바로/Noun', '시중/Noun', '전자제품/Noun', '측/Noun', '팔고/Noun', '땡/Noun', '기막히다/Adjective', '순차/Noun', '그닥/Noun', '모든/Modifier', '중학생/Noun', '벋다/Verb', '마지막/Noun', '길/Noun', '혜택/Noun', '누리다/Verb', '퓨어/Noun', '12시/Number', '11시/Number', '40분/Number', '초인종/Noun', '오신/Noun', '후배/Noun', '인신/Noun', '모양/Noun', '강압/Noun', '무릎/Noun', '꿇다/Verb', '책상/Noun', '의자/Noun', '앉다/Verb', '대꾸/Noun', '차례/Noun', '틈/Noun', '쌩/Noun', '가버리다/Verb', '대조/Noun', '가전제품/Noun', '오시/Noun', '일차/Noun', '이차/Noun', '일후/Noun', '감감/Adverb', '무소식/Noun', '삼촌/Noun', '내/Noun', '지키다/Verb', '전/Foreign', '동/Modifier', '명도/Noun', '지급/Noun', '쯤후/Noun', '따라오다/Verb', '악세사리/Noun', '세다/Verb', '하소연/Noun', '자시다/Verb', '집중/Noun', '미끼/Noun', '앞세우다/Verb', '보심/Noun', '방송/Noun', '단순하다/Adjective', '학업/Noun', '딸아이/Noun', '심/Noun', '\\n  /Foreign', '인쇄/Noun', '양/Noun', '글씨/Noun', '레이저/Noun', '칼라/Noun', '프린트/Noun', '비보/Noun', '스캐너/Noun', '유치원/Noun', '숙제/Noun', '스스로/Noun', '오리/Noun', 'mac/Alpha', '아주아주/Adverb', '특급/Noun', '찌그러지다/Verb', '스티커/Noun', '\\n\\n/Foreign', '인위/Noun', '가보다/Verb', '째/Suffix', '방/Noun', '범위/Noun', '광역/Noun', '대가/Noun', '닫다/Verb', '통과/Noun', '세배/Noun', '정기/Noun', '어댓/Noun', '신호/Noun', '쎄다/Adjective', '받침/Noun', '만날/Noun', '타이밍/Noun', '위험하다/Adjective', '정신/Noun', '부로/Noun', '가해/Noun', '지지/Noun', '심각하다/Adjective', '시안/Noun', '저녁/Noun', '텍스트/Noun', '권유/Noun', '다크/Noun', '주시/Noun', '참여/Noun', '신나요/Noun', '지게/Noun', '친구/Noun', '토록/Josa', '사이트/Noun', '불안하다/Adjective', '마우스패드/Noun', '어딜/Adverb', '가나/Noun', '주일/Noun', '판매점/Noun', '너무도/Adverb', '갖다/Verb', '부담스럽다/Adjective', '눈독/Noun', '침/Noun', '흥리/Noun', '글쎄/Noun', '사로자다/Verb', '시선/Noun', '절로/Noun', '대리/Noun', '고대/Noun', '대박나다/Verb', '수고/Noun', '멋지다/Adjective', '실제/Noun', '수요일/Noun', '출발/Noun', '메시지/Noun', '설레다/Adjective', '자연스럽다/Adjective', '파란/Noun', '계시/Noun', '피로/Noun', '도르다/Verb', '쓰시/Noun', '램슬롯/Noun', '드물다/Adjective', '도와주다/Verb', '2년/Number', '연장/Noun', '권/Suffix', '이구나/Josa', '확보/Noun', '가지다/Verb', 'MSI/Alpha', '말고는/Josa', '능력/Noun', '훌륭하다/Adjective', '울퉁불퉁하다/Adjective', '불호/Noun', '판도/Noun', '평평하다/Adjective', '잘빠지다/Verb', '국내/Noun', '한정/Noun', '대상/Noun', '덜하다/Adjective', '공/Modifier', '임비/Noun', '25/Number', '000원/Number', '유지/Noun', '사설/Noun', '날아가다/Verb', '순간/Noun', '제일/Noun', '휴/Exclamation', '솔/Noun', '노트북컴퓨터/Noun', '전문가/Noun', '로써/Noun', '성용/Noun', '굿굿/Noun', '기껏/Noun', '네비게이션/Noun', '과분/Noun', '죽다/Verb', '서/Modifier', '홈텍스/Noun', '이용/Noun', '달래다/Verb', '접속/Noun', '웬걸/Noun', '울트라/Noun', '짱/Noun', '넘어서다/Verb', '서울/Noun', '끼/Noun', '평소/Noun', '이야/Josa', '공급/Noun', '열흘/Noun', '별/Noun', '탈/Noun', '지워지다/Verb', '물질/Noun', '두번째/Noun', '전원/Noun', '튀어나오다/Verb', '다녀오다/Verb', '식/Noun', '영/Noun', '엘이디/Noun', '천장/Noun', '괜히/Adverb', '장난감/Noun', '오프/Noun', '초반/Foreign', '읜도우/Noun', '소중하다/Adjective', '5일/Number', '을/Foreign', '검수/Noun', '망정/Noun', '500/Number', '사음/Noun', '팔리다/Verb', '갈리/Noun', '증정/Noun', '묭/Noun', '추다/Verb', '군더더기/Noun', '내외/Noun', '감안/Noun', '는걸/Noun', '이전에/Foreign', '입금/Noun', '1000원/Number', '안주/Noun', '대문짝만하다/Adjective', '빠룬속도/Noun', '고오/Noun', '진/Noun', '두르가/Noun', '췃/Noun', '지그/Noun', '5만원/Number', '올라서다/Verb', '너/Noun', '질감/Noun', '땐/Noun', '덜/Noun', '사무실/Noun', '이동/Noun', 'gb/Alpha', '메이플/Noun', '오염/Noun', '새다/Verb', '이슈/Noun', '패쓰/Noun', '66만원/Number', '대/Foreign', '째/Foreign', '확정/Noun', 'POE/Alpha', '겜/Noun', '정도는/Foreign', '바램/Noun', '베리/Noun', '살펴보다/Verb', '그렇지만/Conjunction', '갈아타다/Verb', '27일/Number', '금요일/Noun', '새벽/Noun', '28일/Number', '곧/Noun', '부득이/Noun', '어가/Noun', '크리스탈/Noun', '마크/Noun', 'M/Alpha', 'B/Alpha', '모험/Noun', 'DISK/Alpha', '제공/Noun', 'FHD/Alpha', '음으로/Noun', '드릴/Noun', '말씀/Noun', '에서만/Josa', '된거/Noun', '레이아웃/Noun', '풀키/Noun', '아담하다/Adjective', '귀엽다/Adjective', '은은하다/Adjective', '멋/Noun', '래미/Noun', '팜레스트/Noun', '알루미늄/Noun', '줍다/Verb', '작성/Noun', '뽑기/Noun', '저하/Noun', '유선랜/Noun', '환경/Noun', '라이/Noun', '젠/Noun', 'ACER/Alpha', 'HP/Alpha', '아무쪼록/Adverb', '내심/Noun', '가리개/Noun', '해킹/Noun', '노출/Noun', '사생활/Noun', '침해/Noun', '당하다/Adjective', '물리/Noun', '가리다/Verb', '이쯤/Noun', '배짱/Noun', '장사/Noun', '껏/Noun', '공/Noun', '신경안/Noun', '소재/Noun', '려고/Noun', '밑판/Noun', '헤라/Noun', '천/Noun', '_/Punctuation', '요게/Noun', '구려/Noun', '체감/Noun', '최고다/Noun', '여쭈다/Verb', '압/Noun', '난감하다/Adjective', '간관/Noun', '노력/Noun', '서운하다/Adjective', '생/Noun', '첫/Noun', '몇/Noun', '참조/Noun', '께서/Josa', '정확하다/Adjective', '당부/Noun', '컨버터/Noun', '합/Noun', '손해/Noun', '언짢다/Adjective', '점도/Noun', '망치/Noun', '19년/Number', '경/Foreign', '띵크패드/Noun', '330/Number', '비만/Noun', '호다닥/Noun', '15일/Number', '광복절/Noun', '는바/Noun', '쌓이다/Verb', '스펀지/Noun', '어뎁터중/Noun', '찍/Noun', '검은색/Noun', '조합/Noun', '키감/Noun', '위쪽/Noun', '각종/Noun', '기능키/Noun', '원/Noun', '비행기/Noun', '꺼지다/Verb', '자판/Noun', '밑/Noun', '육안/Noun', '풀/Noun', 'HWmonitor/Alpha', '란/Noun', '측정/Noun', '70/Number', '55/Number', '도입/Noun', '랜/Noun', '팁/Noun', '지라/Noun', 'microsoft/Alpha', 'store/Alpha', 'lenovo/Alpha', 'vantage/Alpha', '권장/Noun', '보존/Noun', '마치다/Verb', '중순/Noun', '짜리/Foreign', '기민하다/Adjective', '잡/Noun', '그만하다/Adjective', '선풍기/Noun', '임/Noun', 'C/Alpha', '개임/Noun', 'SD/Alpha', '14/Number', '리커버리/Noun', '다소/Noun', '만큼은/Josa', '컨넥터쪽/Noun', '그을리다/Adjective', '부러지다/Verb', '꼽히다/Verb', '냉각/Noun', '남아/Noun', '어이/Noun', '푼/Noun', '아끼다/Verb', '교훈/Noun', '막히다/Verb', '과대/Noun', '업다/Verb', '대단하다/Adjective', '놀랍다/Adjective', '극/Suffix', '도하/Noun', '전면/Noun', '스크래치/Noun', '말입/Noun', '번거러움/Noun', '뺴곤/Noun', '곹/Noun', '마냥/Noun', '오타쿠/Noun', 'gta/Alpha', '오브/Noun', '워/Noun', '청색/Noun', '뒷/Modifier', '사용설명서/Noun', '언급/Noun', '한마디/Noun', '멊/Noun', '에혀/Noun', '초보/Noun', '심즈/Noun', '올/Modifier', '확팩/Noun', '까맣다/Adjective', '살걸/Noun', '호환/Noun', '도스/Noun', '먹통/Noun', '터보/Noun', '부스트/Noun', '동작/Noun', '클럭/Noun', '하락/Noun', '전력/Noun', '내버리다/Verb', '이태/Noun', '부리고/Noun', '봄/Noun', '사면/Noun', '기업체/Noun', '왕/Noun', '두근두근/Adverb', '유/Noun', '뉘/Noun', '똥컴/Noun', '미치다/Adjective', '프리미어/Noun', '잠깐/Noun', '만지다/Verb', '결점/Noun', '흑점/Noun', '벌다/Verb', '삿는데/Noun', '불량화소/Noun', '기부/Noun', '문해/Noun', 'msi/Alpha', '같이/Josa', '밖/Noun', '눈치/Noun', '몇번/Noun', '준수/Noun', '9560/Number', '벽/Noun', '뚫다/Verb', '안정/Noun', 'tn/Alpha', '굳이/Noun', '조절/Noun', '시리즈/Noun', '군데군데/Noun', '들뜨다/Adjective', '만나다/Verb', '위험/Noun', '테라/Noun', '995/Number', '아우르다/Verb', '와우/Noun', '클래식/Noun', '쾌적하다/Adjective', '연/Modifier', '결선/Noun', '만들어지다/Verb', '허브/Noun', '극명하다/Adjective', '나타남/Noun', '희다/Adjective', '뚜렷하다/Adjective', '휠/Noun', '찌직/Adverb', 'werterwtwevrtewtvbwetrwertwert/Alpha', '로젠택배/Noun', '씹다/Verb', '스트레스/Noun', '부들부들/Noun', '하용/Noun', '그러면/Adverb', '조립/Noun', '뭡/Noun', '날짜/Noun', '부터가/Josa', '부터/Foreign', '별거/Noun', '휴일/Noun', '7일/Number', '저만/Modifier', '소모/Noun', '네요/Eomi', '굴러가다/Verb', '셀프/Noun', '랩/Noun', '성비/Noun', '단어/Noun', '아깝다/Adjective', '번은/Noun', '인베/Noun', '디아/Noun', '어지간하다/Adjective', '복학/Noun', '쿼드코어/Noun', '프로세서/Noun', '60만원/Number', '중후/Noun', '반대/Noun', '가져다주다/Verb', '가림/Noun', '막도/Noun', '스피커/Noun', '이어서/Josa', '180/Number', '펴다/Verb', '성인/Noun', '기숙사/Noun', '배틀/Noun', '라운드/Noun', '7초/Number', '조건/Noun', '둘둘/Noun', '황당하다/Adjective', '고이/Noun', '모시다/Verb', '욪/Noun', '똑같다/Adjective', '피파/Noun', '베스트/Noun', '년/Noun', 'gpt/Alpha', '한데/Eomi', '일시/Noun', '섭섭하다/Adjective', '제주도/Noun', '여행/Noun', '일정/Noun', '아슬아슬/Noun', '햇음/Noun', '댜비/Noun', '거격/Noun', '신세계/Noun', '경험/Noun', '리도/Noun', '광탈/Noun', '이구사/Noun', '양은/Noun', '어찌어찌/Adverb', '금/Noun', '흔적/Noun', '듣기/Noun', '광축/Noun', '스탠드/Noun', '난리/Noun', '가사/Noun', '뒤쪽/Noun', '십자/Noun', '볼트/Noun', '풀다/Verb', '벗기다/Verb', '일자/Noun', '소켓/Noun', '고요/Noun', '다시다/Verb', '자형/Noun', '가용/Noun', '1060/Number', '멀쩡하다/Adjective', '애매하다/Adjective', '사십/Modifier', '시오/Noun', '서류/Noun', '비판/Noun', '1660/Number', 'ti/Alpha', '몬스터헌터/Noun', '일부/Noun', '상옵/Noun', '바하/Noun', 're/Alpha', '이미지/Noun', '110/Number', '거뜬하다/Adjective', '따뜻하다/Adjective', 'gpu/Alpha', '올려놓다/Verb', '80/Number', '토익/Noun', '공부/Noun', '6시간/Number', '듀얼링크/Noun', '가짜/Noun', '리/Noun', '듀얼채널/Noun', '70만원/Number', '항상/Noun', '대행/Noun', '사인/Noun', '반/Modifier', '석/Modifier', '2시/Number', '50분/Number', '노후/Noun', '화로/Noun', '정도만/Foreign', '난후/Noun', '남섬/Noun', '2시간/Number', '동안만/Foreign', '무사하다/Adjective', '지나가다/Verb', '과의/Josa', '용산/Noun', '모/Modifier', '실사/Noun', '비됴/Noun', '증/Noun', '통해/Noun', '궁극/Noun', '앞서다/Verb', '군요/Eomi', '투/Noun', '박하다/Adjective', '17일/Number', 'gr/Alpha', '외산/Noun', '산지/Noun', '급발진/Noun', '니깐/Josa', 'BOE/Alpha', '개/Suffix', '에다가/Josa', '받치다/Verb', '만/Suffix', '가치/Noun', '만/Modifier', '의삼/Noun', '지난번/Noun', '백/Modifier', '야외/Noun', '7년/Number', '전보/Noun', '연하다/Adjective', '틀리다/Verb', '왜냐하면/Adverb', '오마이갓/Noun', '만에도착하였습니다/Foreign', '두근거리다/Adjective', '안전/Noun', '섬세하다/Adjective', '찌다/Verb', '영롱하다/Adjective', '빛나다/Verb', 'Windows/Alpha', 'Pro/Alpha', '안기다/Verb', '평상/Noun', '사기/Noun', '안나/Noun', '골/Noun', '우/Adverb', '영상편집/Noun', '너/Modifier', '무크/Noun', '색깔/Noun', '지포스/Noun', 'Kg/Alpha', '평상시/Noun', '일지/Noun', 'METAL/Alpha', '900/Number', 'X/Alpha', 'K/Alpha', 'W/Alpha', '1080/Number', 'P/Alpha', '재생/Noun', '카메라/Noun', '진열/Noun', '화려하다/Adjective', '내면/Noun', '신기하다/Adjective', '지문/Noun', '편리하다/Adjective', '초/Noun', '밸런스/Noun', '세계/Noun', '최초/Noun', '유일하다/Adjective', '아테나/Noun', '프로젝트/Noun', '인증/Noun', '더욱더/Noun', '믿음/Noun', '가구/Noun', '충족/Noun', '찍히다/Verb', '삼섬빠/Noun', '상한/Noun', '10년/Number', '빠/Noun', '대다수/Noun', '흔하다/Adjective', '사라/Noun', '확신/Noun', '가깝다/Adjective', '달전/Noun', '칩셋/Noun', '천지/Noun', '필수/Noun', '20/Number', '여개/Noun', '굴욕/Noun', '아쉬움/Noun', '뽀송뽀송하다/Adjective', '땀/Noun', '물기/Noun', '필요성/Noun', '인생/Noun', '평이/Noun', '빅/Noun', '스마일/Noun', '131만원/Number', 'MX/Alpha', '랙픽/Noun', '역/Noun', 'windows/Alpha', 'RAM/Alpha', 'UFS/Alpha', '본인/Noun', '소프트웨어/Noun', '앱/Noun', '직딩/Noun', '캐드/Noun', '솔리드/Noun', '웍스/Noun', 'pcb/Alpha', '몇개/Noun', '띄우다/Verb', '버벅되기/Noun', '복잡하다/Adjective', '오케이/Noun', '보아/Noun', '어느/Adverb', '외형/Noun', '엔터키/Noun', '학생용/Noun', '핫/Noun', '장단점/Noun', '수많다/Adjective', '들이다/Verb', '지적/Noun', '타자/Noun', '독서실/Noun', '주로/Noun', '잔잔하다/Adjective', '자신/Noun', '견해/Noun', '말씀드리다/Verb', '곤/Noun', '낫다/Noun', '서핑/Noun', '과제/Noun', '능이/Noun', '당/Modifier', '연/Noun', '까먹다/Verb', '준/Noun', 'mx/Alpha', '불구/Noun', '뻔하다/Adjective', '잘리다/Verb', '은근/Noun', '불명/Noun', '가시다/Verb', '슬림/Noun', '쏘다/Verb', '처럼/Noun', '한편/Noun', '그나마/Adverb', '위안/Noun', '보지/Noun', '삭제/Noun', '이기다/Verb', '유서랜/Noun', '인기/Noun', '폭주/Noun', '종료/Noun', '간/Foreign', '벌레/Noun', '다리/Noun', 'freedos/Alpha', '화요일/Noun', '수/Modifier', '욜/Noun', '일요일/Noun', '월욜/Noun', '화/Noun', '다해/Noun', '따지다/Verb', '대구/Noun', '짱짱하다/Adjective', '든든하다/Adjective', '도로/Noun', '도등/Noun', '요가/Noun', '일가/Noun', '쌔네/Noun', '감수/Noun', '쫙/Noun', '가게/Noun', '테이프/Noun', '뜯기다/Verb', '윗/Modifier', '열리다/Verb', '정물/Noun', '덥다/Adjective', '에어캡/Noun', '말리다/Verb', '담기다/Verb', '눌려/Noun', '담당자/Noun', '시기/Noun', '검/Noun', '올라오다/Verb', '느/Noun', '재다/Verb', 'note/Alpha', '여간/Noun', '오지/Noun', '배치/Noun', '가조/Noun', '금불/Noun', '뺴고/Noun', '13년/Number', '크로노스/Noun', '78/Number', '과/Noun', '커지다/Verb', '간격/Noun', '열/Noun', '작/Noun', '좋아지다/Verb', '기술/Noun', '발전/Noun', '우려/Noun', '둘/Noun', 'E/Alpha', 'update/Alpha', 'Samsungsoftware/Alpha', 'exe/Alpha', '나요/Eomi', '살리다/Verb', '최상급/Noun', '편입/Noun', 'Ssd/Alpha', '어찌나/Adverb', '휘/Noun', '바/Noun', '조마조마/Noun', '제거/Noun', '불가/Noun', '꽂다/Verb', '잭/Noun', '20년/Number', '따끈하다/Adjective', '문후/Noun', '만에왔네요/Foreign', 'xcr/Alpha', 'xcj/Alpha', 'x/Alpha']\n"
     ]
    }
   ],
   "source": [
    "print(selected_words)"
   ]
  },
  {
   "cell_type": "code",
   "execution_count": 125,
   "metadata": {},
   "outputs": [],
   "source": [
    "with open('reviewSelected2500.p', 'wb') as f:\n",
    "    pickle.dump(selected_words, f)"
   ]
  },
  {
   "cell_type": "markdown",
   "metadata": {},
   "source": [
    "## training setting"
   ]
  },
  {
   "cell_type": "code",
   "execution_count": 126,
   "metadata": {},
   "outputs": [],
   "source": [
    "train_x_temp = [(term_frequency(a),b) for a,b in training_r]\n",
    "train_sum = [sum(d[0]) for d in train_x_temp]\n",
    "for i in range(len(train_sum)):\n",
    "    if train_sum[i] == 0:\n",
    "        train_sum[i] = 1\n",
    "        \n",
    "train_x = []\n",
    "train_x2 = []    \n",
    "for d in range(len(train_x_temp)):\n",
    "    li = [float(l)/train_sum[d] for l in train_x_temp[d][0]]\n",
    "    train_x.append(li)\n",
    "    train_x2.append((li,train_x_temp[d][1]))\n",
    "\n",
    "\n",
    "test_x_temp = [(term_frequency(a),b) for a,b in test_r]\n",
    "test_sum = [sum(d[0]) for d in test_x_temp]\n",
    "for i in range(len(test_sum)):\n",
    "    if test_sum[i] == 0:\n",
    "        test_sum[i] = 1\n",
    "        \n",
    "test_x = []\n",
    "test_x2 = []    \n",
    "for d in range(len(test_x_temp)):\n",
    "    li = [float(l)/test_sum[d] for l in test_x_temp[d][0]]\n",
    "    test_x.append(li)\n",
    "    test_x2.append((li,test_x_temp[d][1]))\n",
    "    \n",
    "    \n",
    "train_y = [c for _,c in training_r]\n",
    "test_y = [c for _,c in test_r]\n"
   ]
  },
  {
   "cell_type": "code",
   "execution_count": 127,
   "metadata": {},
   "outputs": [],
   "source": [
    "import numpy as np\n",
    "x_train = np.asarray(train_x).astype('float32')\n",
    "x_test = np.asarray(test_x).astype('float32')\n",
    "y_train = np.asarray(train_y).astype('float32')\n",
    "y_test = np.asarray(test_y).astype('float32')"
   ]
  },
  {
   "cell_type": "markdown",
   "metadata": {},
   "source": [
    "## 학습"
   ]
  },
  {
   "cell_type": "code",
   "execution_count": 128,
   "metadata": {},
   "outputs": [
    {
     "name": "stdout",
     "output_type": "stream",
     "text": [
      "Epoch 1/50\n",
      "13/15 [=========================>....] - ETA: 0s - loss: 0.6804 - binary_accuracy: 0.6274INFO:tensorflow:Assets written to: ReviewModel/assets\n",
      "15/15 [==============================] - 1s 69ms/step - loss: 0.6779 - binary_accuracy: 0.6376 - val_loss: 0.6550 - val_binary_accuracy: 0.6350\n",
      "Epoch 2/50\n",
      "15/15 [==============================] - ETA: 0s - loss: 0.5719 - binary_accuracy: 0.8079INFO:tensorflow:Assets written to: ReviewModel/assets\n",
      "15/15 [==============================] - 1s 59ms/step - loss: 0.5719 - binary_accuracy: 0.8079 - val_loss: 0.5624 - val_binary_accuracy: 0.7550\n",
      "Epoch 3/50\n",
      "13/15 [=========================>....] - ETA: 0s - loss: 0.4442 - binary_accuracy: 0.8942INFO:tensorflow:Assets written to: ReviewModel/assets\n",
      "15/15 [==============================] - 1s 71ms/step - loss: 0.4347 - binary_accuracy: 0.8974 - val_loss: 0.5446 - val_binary_accuracy: 0.7650\n",
      "Epoch 4/50\n",
      "15/15 [==============================] - 1s 44ms/step - loss: 0.3044 - binary_accuracy: 0.9389 - val_loss: 0.5141 - val_binary_accuracy: 0.7600\n",
      "Epoch 5/50\n",
      "13/15 [=========================>....] - ETA: 0s - loss: 0.2117 - binary_accuracy: 0.9495INFO:tensorflow:Assets written to: ReviewModel/assets\n",
      "15/15 [==============================] - 1s 43ms/step - loss: 0.2108 - binary_accuracy: 0.9541 - val_loss: 0.5911 - val_binary_accuracy: 0.7700\n",
      "Epoch 6/50\n",
      "14/15 [===========================>..] - ETA: 0s - loss: 0.1404 - binary_accuracy: 0.9732INFO:tensorflow:Assets written to: ReviewModel/assets\n",
      "15/15 [==============================] - 1s 72ms/step - loss: 0.1393 - binary_accuracy: 0.9738 - val_loss: 0.6148 - val_binary_accuracy: 0.7750\n",
      "Epoch 7/50\n",
      "15/15 [==============================] - 0s 31ms/step - loss: 0.1065 - binary_accuracy: 0.9869 - val_loss: 0.6167 - val_binary_accuracy: 0.7450\n",
      "Epoch 8/50\n",
      "15/15 [==============================] - 0s 16ms/step - loss: 0.0640 - binary_accuracy: 0.9913 - val_loss: 0.6811 - val_binary_accuracy: 0.7600\n",
      "Epoch 9/50\n",
      "15/15 [==============================] - 0s 17ms/step - loss: 0.0439 - binary_accuracy: 0.9956 - val_loss: 0.8020 - val_binary_accuracy: 0.7450\n",
      "Epoch 10/50\n",
      "15/15 [==============================] - 0s 19ms/step - loss: 0.0313 - binary_accuracy: 0.9956 - val_loss: 0.8129 - val_binary_accuracy: 0.7150\n",
      "Epoch 11/50\n",
      "15/15 [==============================] - 0s 17ms/step - loss: 0.0180 - binary_accuracy: 0.9956 - val_loss: 0.8700 - val_binary_accuracy: 0.7300\n",
      "Epoch 12/50\n",
      "15/15 [==============================] - 0s 17ms/step - loss: 0.0122 - binary_accuracy: 0.9956 - val_loss: 0.9730 - val_binary_accuracy: 0.7550\n",
      "Epoch 13/50\n",
      "15/15 [==============================] - 0s 17ms/step - loss: 0.0101 - binary_accuracy: 0.9978 - val_loss: 1.0168 - val_binary_accuracy: 0.7350\n",
      "Epoch 14/50\n",
      "15/15 [==============================] - 0s 16ms/step - loss: 0.0086 - binary_accuracy: 0.9978 - val_loss: 1.1146 - val_binary_accuracy: 0.7300\n",
      "Epoch 15/50\n",
      "15/15 [==============================] - 0s 16ms/step - loss: 0.0073 - binary_accuracy: 0.9978 - val_loss: 1.1648 - val_binary_accuracy: 0.7200\n",
      "Epoch 16/50\n",
      "15/15 [==============================] - 0s 31ms/step - loss: 0.0040 - binary_accuracy: 0.9978 - val_loss: 1.2471 - val_binary_accuracy: 0.7300\n",
      "Epoch 17/50\n",
      "15/15 [==============================] - 0s 16ms/step - loss: 0.0094 - binary_accuracy: 0.9978 - val_loss: 1.2762 - val_binary_accuracy: 0.7300\n",
      "Epoch 18/50\n",
      "15/15 [==============================] - 0s 29ms/step - loss: 0.0098 - binary_accuracy: 0.9978 - val_loss: 1.3169 - val_binary_accuracy: 0.7300\n",
      "Epoch 19/50\n",
      "15/15 [==============================] - 0s 17ms/step - loss: 0.0079 - binary_accuracy: 0.9978 - val_loss: 1.3933 - val_binary_accuracy: 0.7250\n",
      "Epoch 20/50\n",
      "15/15 [==============================] - 0s 15ms/step - loss: 0.0072 - binary_accuracy: 0.9956 - val_loss: 1.4473 - val_binary_accuracy: 0.7400\n",
      "Epoch 21/50\n",
      "15/15 [==============================] - 0s 15ms/step - loss: 0.0088 - binary_accuracy: 0.9956 - val_loss: 1.4916 - val_binary_accuracy: 0.7250\n",
      "Epoch 22/50\n",
      "15/15 [==============================] - 0s 17ms/step - loss: 0.0057 - binary_accuracy: 0.9978 - val_loss: 1.5407 - val_binary_accuracy: 0.7350\n",
      "Epoch 23/50\n",
      "15/15 [==============================] - 0s 16ms/step - loss: 0.0085 - binary_accuracy: 0.9956 - val_loss: 1.5780 - val_binary_accuracy: 0.7200\n",
      "Epoch 24/50\n",
      "15/15 [==============================] - 0s 18ms/step - loss: 0.0070 - binary_accuracy: 0.9956 - val_loss: 1.6166 - val_binary_accuracy: 0.7300\n",
      "Epoch 25/50\n",
      "15/15 [==============================] - 0s 15ms/step - loss: 0.0044 - binary_accuracy: 0.9978 - val_loss: 1.9209 - val_binary_accuracy: 0.7650\n",
      "Epoch 26/50\n",
      "15/15 [==============================] - 0s 16ms/step - loss: 0.0080 - binary_accuracy: 0.9978 - val_loss: 1.7061 - val_binary_accuracy: 0.7250\n",
      "Epoch 27/50\n",
      "15/15 [==============================] - 0s 18ms/step - loss: 0.0032 - binary_accuracy: 0.9978 - val_loss: 1.7161 - val_binary_accuracy: 0.7350\n",
      "Epoch 28/50\n",
      "15/15 [==============================] - 0s 18ms/step - loss: 0.0103 - binary_accuracy: 0.9956 - val_loss: 1.7265 - val_binary_accuracy: 0.7300\n",
      "Epoch 29/50\n",
      "15/15 [==============================] - 0s 19ms/step - loss: 0.0084 - binary_accuracy: 0.9956 - val_loss: 1.7229 - val_binary_accuracy: 0.7200\n",
      "Epoch 30/50\n",
      "15/15 [==============================] - 0s 16ms/step - loss: 0.0093 - binary_accuracy: 0.9956 - val_loss: 1.7383 - val_binary_accuracy: 0.7300\n",
      "Epoch 31/50\n",
      "15/15 [==============================] - 0s 16ms/step - loss: 0.0100 - binary_accuracy: 0.9956 - val_loss: 1.7383 - val_binary_accuracy: 0.7250\n",
      "Epoch 32/50\n",
      "15/15 [==============================] - 0s 18ms/step - loss: 0.0068 - binary_accuracy: 0.9978 - val_loss: 1.8159 - val_binary_accuracy: 0.7350\n",
      "Epoch 33/50\n",
      "15/15 [==============================] - 0s 32ms/step - loss: 0.0082 - binary_accuracy: 0.9956 - val_loss: 1.8312 - val_binary_accuracy: 0.7250\n",
      "Epoch 34/50\n",
      "15/15 [==============================] - 0s 16ms/step - loss: 0.0068 - binary_accuracy: 0.9978 - val_loss: 1.7819 - val_binary_accuracy: 0.7300\n",
      "Epoch 35/50\n",
      "15/15 [==============================] - 0s 17ms/step - loss: 0.0063 - binary_accuracy: 0.9978 - val_loss: 1.8497 - val_binary_accuracy: 0.7350\n",
      "Epoch 36/50\n",
      "15/15 [==============================] - 0s 16ms/step - loss: 0.0100 - binary_accuracy: 0.9956 - val_loss: 1.8310 - val_binary_accuracy: 0.7250\n",
      "Epoch 37/50\n",
      "15/15 [==============================] - 0s 17ms/step - loss: 0.0065 - binary_accuracy: 0.9978 - val_loss: 1.7855 - val_binary_accuracy: 0.7350\n",
      "Epoch 38/50\n",
      "15/15 [==============================] - 0s 16ms/step - loss: 0.0065 - binary_accuracy: 0.9978 - val_loss: 1.8590 - val_binary_accuracy: 0.7350\n",
      "Epoch 39/50\n",
      "15/15 [==============================] - 0s 17ms/step - loss: 0.0090 - binary_accuracy: 0.9956 - val_loss: 1.8717 - val_binary_accuracy: 0.7350\n",
      "Epoch 40/50\n",
      "15/15 [==============================] - 0s 16ms/step - loss: 0.0081 - binary_accuracy: 0.9956 - val_loss: 1.8606 - val_binary_accuracy: 0.7300\n",
      "Epoch 41/50\n",
      "15/15 [==============================] - 0s 18ms/step - loss: 0.0085 - binary_accuracy: 0.9956 - val_loss: 1.8847 - val_binary_accuracy: 0.7400\n",
      "Epoch 42/50\n",
      "15/15 [==============================] - 0s 18ms/step - loss: 0.0063 - binary_accuracy: 0.9978 - val_loss: 1.8462 - val_binary_accuracy: 0.7350\n",
      "Epoch 43/50\n",
      "15/15 [==============================] - 0s 17ms/step - loss: 0.0095 - binary_accuracy: 0.9956 - val_loss: 1.8461 - val_binary_accuracy: 0.7300\n",
      "Epoch 44/50\n",
      "15/15 [==============================] - 0s 21ms/step - loss: 0.0080 - binary_accuracy: 0.9978 - val_loss: 1.8707 - val_binary_accuracy: 0.7450\n",
      "Epoch 45/50\n",
      "15/15 [==============================] - 0s 19ms/step - loss: 0.0076 - binary_accuracy: 0.9978 - val_loss: 1.8683 - val_binary_accuracy: 0.7400\n",
      "Epoch 46/50\n",
      "15/15 [==============================] - 0s 18ms/step - loss: 0.0080 - binary_accuracy: 0.9956 - val_loss: 1.8484 - val_binary_accuracy: 0.7350\n",
      "Epoch 47/50\n",
      "15/15 [==============================] - 0s 18ms/step - loss: 0.0079 - binary_accuracy: 0.9956 - val_loss: 1.8512 - val_binary_accuracy: 0.7350\n",
      "Epoch 48/50\n",
      "15/15 [==============================] - 0s 18ms/step - loss: 0.0062 - binary_accuracy: 0.9978 - val_loss: 1.9160 - val_binary_accuracy: 0.7450\n"
     ]
    },
    {
     "name": "stdout",
     "output_type": "stream",
     "text": [
      "Epoch 49/50\n",
      "15/15 [==============================] - 0s 15ms/step - loss: 0.0076 - binary_accuracy: 0.9956 - val_loss: 1.9280 - val_binary_accuracy: 0.7350\n",
      "Epoch 50/50\n",
      "15/15 [==============================] - 0s 15ms/step - loss: 0.0067 - binary_accuracy: 0.9978 - val_loss: 1.8948 - val_binary_accuracy: 0.7300\n"
     ]
    }
   ],
   "source": [
    "from tensorflow.keras import models\n",
    "from tensorflow.keras import layers\n",
    "from tensorflow.keras import optimizers\n",
    "from tensorflow.keras import losses\n",
    "from tensorflow.keras import metrics\n",
    "from tensorflow.keras.callbacks import ModelCheckpoint\n",
    "\n",
    "callbacks = [ModelCheckpoint(filepath='ReviewModel',monitor='val_binary_accuracy',save_best_only=True)]\n",
    "\n",
    "model = models.Sequential()\n",
    "model.add(layers.Dense(1200,activation='relu',input_shape=(2500,)))#실제 쓸 단어갯수\n",
    "model.add(layers.Dense(64,activation='relu'))\n",
    "model.add(layers.Dense(1,activation='sigmoid'))\n",
    "\n",
    "model.compile(optimizer=optimizers.RMSprop(lr=0.001),loss = losses.binary_crossentropy,metrics=[metrics.binary_accuracy])\n",
    "\n",
    "hist = model.fit(x_train,y_train,epochs=50,batch_size=32,validation_data=(x_test,y_test),callbacks=callbacks)\n",
    "\n"
   ]
  },
  {
   "cell_type": "code",
   "execution_count": 129,
   "metadata": {},
   "outputs": [
    {
     "data": {
      "image/png": "[encoded data removed]",
      "text/plain": [
       "<Figure size 432x288 with 2 Axes>"
      ]
     },
     "metadata": {
      "needs_background": "light"
     },
     "output_type": "display_data"
    }
   ],
   "source": [
    "#8\n",
    "%matplotlib inline\n",
    "import matplotlib.pyplot as plt\n",
    "\n",
    "fig, acc_ax = plt.subplots()\n",
    "\n",
    "loss_ax = acc_ax.twinx()\n",
    "\n",
    "loss_ax.plot(hist.history['loss'], 'y', label='train loss')\n",
    "loss_ax.plot(hist.history['val_loss'], 'r', label='val loss')\n",
    "\n",
    "acc_ax.plot(hist.history['binary_accuracy'], 'b', label='train acc')\n",
    "acc_ax.plot(hist.history['val_binary_accuracy'], 'g', label='val acc')\n",
    "\n",
    "loss_ax.set_xlabel('epoch')\n",
    "loss_ax.set_ylabel('loss')\n",
    "acc_ax.set_ylabel('accuray')\n",
    "\n",
    "loss_ax.legend(loc='upper left')\n",
    "acc_ax.legend(loc='lower left')\n",
    "\n",
    "plt.show()"
   ]
  },
  {
   "cell_type": "code",
   "execution_count": 1,
   "metadata": {},
   "outputs": [],
   "source": [
    "\"\"\"def predict(review):\n",
    "    token = tokenize(review)\n",
    "    tf = term_frequency(token)\n",
    "    data = np.expand_dims(np.asarray(tf).astype('float32'),axis=0)\n",
    "    score = float(model.predict(data))\n",
    "    #print(score)\n",
    "    if(score>0.5):\n",
    "        #print(\"[{}]는 {:.2f}%확률로 만족 리뷰입니다.\".format(review,score*100))\n",
    "        return score\n",
    "    else:\n",
    "        #print(\"[{}]는 {:.2f}%확률로 불만족 리뷰입니다.\".format(review,(1-score)*100))\n",
    "        return -(1-score)\"\"\""
   ]
  },
  {
   "cell_type": "code",
   "execution_count": 130,
   "metadata": {},
   "outputs": [
    {
     "data": {
      "text/plain": [
       "-0.7550372034311295"
      ]
     },
     "execution_count": 130,
     "metadata": {},
     "output_type": "execute_result"
    }
   ],
   "source": [
    "def keyword_predict(s):\n",
    "    test_t = tokenize(s)\n",
    "    tf = term_frequency(test_t)\n",
    "    tf_sum = 0\n",
    "    for i in tf:\n",
    "        tf_sum = tf_sum + i\n",
    "    if tf_sum == 0:\n",
    "        tf_sum = 1\n",
    "    final_tf = [i/tf_sum for i in tf]\n",
    "    data = np.expand_dims(np.asarray(final_tf).astype('float32'),axis=0)\n",
    "    score = float(model_best.predict(data))\n",
    "    #print(score)\n",
    "\n",
    "    if(score>0.55):\n",
    "        #print(\"[{}]는 {:.2f}%확률로 만족 리뷰입니다.\".format(s,score*100))\n",
    "        return score\n",
    "    elif(score<0.45):\n",
    "        #print(\"[{}]는 {:.2f}%확률로 불만족 리뷰입니다.\".format(s,(1-score)*100))\n",
    "        return -(1-score)\n",
    "    else:\n",
    "        #print('그저 그렇다')\n",
    "        return 0\n",
    "    \n",
    "keyword_predict('성능이 안좋다')"
   ]
  },
  {
   "cell_type": "code",
   "execution_count": 131,
   "metadata": {},
   "outputs": [],
   "source": [
    "#모델 로컬에 저장\n",
    "model_best = models.load_model('ReviewModel')\n",
    "def predict(x):\n",
    "    data = np.expand_dims(np.asarray(x).astype('float32'),axis=0)\n",
    "    score = model_best.predict(data)\n",
    "    if(score>0.5):\n",
    "        return 1\n",
    "    else:\n",
    "        return 0"
   ]
  },
  {
   "cell_type": "code",
   "execution_count": 132,
   "metadata": {},
   "outputs": [
    {
     "name": "stdout",
     "output_type": "stream",
     "text": [
      "0.775\n"
     ]
    }
   ],
   "source": [
    "# 테스트 데이터 정확도\n",
    "count = 0\n",
    "for i in test_x2:\n",
    "    if predict(i[0]) == int(i[1]):\n",
    "        count = count + 1\n",
    "print(count/len(test_r))"
   ]
  }
 ],
 "metadata": {
  "kernelspec": {
   "display_name": "Python 3",
   "language": "python",
   "name": "python3"
  },
  "language_info": {
   "codemirror_mode": {
    "name": "ipython",
    "version": 3
   },
   "file_extension": ".py",
   "mimetype": "text/x-python",
   "name": "python",
   "nbconvert_exporter": "python",
   "pygments_lexer": "ipython3",
   "version": "3.7.6"
  }
 },
 "nbformat": 4,
 "nbformat_minor": 4
}
